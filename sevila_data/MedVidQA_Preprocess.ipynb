{
 "cells": [
  {
   "cell_type": "code",
   "execution_count": 1,
   "id": "22ae2874",
   "metadata": {},
   "outputs": [
    {
     "name": "stdout",
     "output_type": "stream",
     "text": [
      "Requirement already satisfied: yt-dlp in /home/hlpark/miniconda3/envs/sevila/lib/python3.8/site-packages (2023.12.12.232727.dev0)\n",
      "\u001b[33mWARNING: Retrying (Retry(total=4, connect=None, read=None, redirect=None, status=None)) after connection broken by 'ProtocolError('Connection aborted.', ConnectionResetError(104, 'Connection reset by peer'))': /simple/yt-dlp/\u001b[0m\u001b[33m\n",
      "\u001b[0mCollecting yt-dlp\n",
      "  Downloading yt_dlp-2023.12.13.232710.dev0-py2.py3-none-any.whl.metadata (160 kB)\n",
      "\u001b[2K     \u001b[90m━━━━━━━━━━━━━━━━━━━━━━━━━━━━━━━━━━━━━━━\u001b[0m \u001b[32m160.7/160.7 kB\u001b[0m \u001b[31m1.0 MB/s\u001b[0m eta \u001b[36m0:00:00\u001b[0ma \u001b[36m0:00:01\u001b[0m\n",
      "\u001b[?25hRequirement already satisfied: mutagen in /home/hlpark/miniconda3/envs/sevila/lib/python3.8/site-packages (from yt-dlp) (1.47.0)\n",
      "Requirement already satisfied: pycryptodomex in /home/hlpark/miniconda3/envs/sevila/lib/python3.8/site-packages (from yt-dlp) (3.19.0)\n",
      "Requirement already satisfied: websockets in /home/hlpark/miniconda3/envs/sevila/lib/python3.8/site-packages (from yt-dlp) (12.0)\n",
      "Requirement already satisfied: certifi in /home/hlpark/miniconda3/envs/sevila/lib/python3.8/site-packages (from yt-dlp) (2023.11.17)\n",
      "Requirement already satisfied: requests<3,>=2.31.0 in /home/hlpark/miniconda3/envs/sevila/lib/python3.8/site-packages (from yt-dlp) (2.31.0)\n",
      "Requirement already satisfied: urllib3<3,>=1.26.17 in /home/hlpark/miniconda3/envs/sevila/lib/python3.8/site-packages (from yt-dlp) (2.1.0)\n",
      "Requirement already satisfied: brotli in /home/hlpark/miniconda3/envs/sevila/lib/python3.8/site-packages (from yt-dlp) (1.1.0)\n",
      "Requirement already satisfied: charset-normalizer<4,>=2 in /home/hlpark/miniconda3/envs/sevila/lib/python3.8/site-packages (from requests<3,>=2.31.0->yt-dlp) (3.3.2)\n",
      "Requirement already satisfied: idna<4,>=2.5 in /home/hlpark/miniconda3/envs/sevila/lib/python3.8/site-packages (from requests<3,>=2.31.0->yt-dlp) (3.6)\n",
      "Downloading yt_dlp-2023.12.13.232710.dev0-py2.py3-none-any.whl (3.0 MB)\n",
      "\u001b[2K   \u001b[90m━━━━━━━━━━━━━━━━━━━━━━━━━━━━━━━━━━━━━━━━\u001b[0m \u001b[32m3.0/3.0 MB\u001b[0m \u001b[31m11.6 MB/s\u001b[0m eta \u001b[36m0:00:00\u001b[0m00:01\u001b[0m00:01\u001b[0m\n",
      "\u001b[?25hInstalling collected packages: yt-dlp\n",
      "  Attempting uninstall: yt-dlp\n",
      "    Found existing installation: yt-dlp 2023.12.12.232727.dev0\n",
      "    Uninstalling yt-dlp-2023.12.12.232727.dev0:\n",
      "      Successfully uninstalled yt-dlp-2023.12.12.232727.dev0\n",
      "Successfully installed yt-dlp-2023.12.13.232710.dev0\n"
     ]
    }
   ],
   "source": [
    "!python -m pip install -U --pre --upgrade yt-dlp"
   ]
  },
  {
   "cell_type": "code",
   "execution_count": 2,
   "id": "4204c7e1",
   "metadata": {},
   "outputs": [],
   "source": [
    "import os\n",
    "import json\n",
    "import pandas as pd\n",
    "from random import randrange\n",
    "from yt_dlp import YoutubeDL\n",
    "from moviepy.editor import VideoFileClip"
   ]
  },
  {
   "cell_type": "code",
   "execution_count": 3,
   "id": "5e807f09",
   "metadata": {},
   "outputs": [],
   "source": [
    "# create folder for each dataset first    "
   ]
  },
  {
   "cell_type": "code",
   "execution_count": 3,
   "id": "09845339",
   "metadata": {},
   "outputs": [],
   "source": [
    "def save_json(content, save_path):\n",
    "    with open(save_path, 'w') as f:\n",
    "        f.write(json.dumps(content))\n",
    "def load_jsonl(filename):\n",
    "    with open(filename, \"r\") as f:\n",
    "        return [json.loads(l.strip(\"\\n\")) for l in f.readlines()]"
   ]
  },
  {
   "cell_type": "code",
   "execution_count": 4,
   "id": "4e569c5b",
   "metadata": {},
   "outputs": [],
   "source": [
    "# MedVidQA"
   ]
  },
  {
   "cell_type": "code",
   "execution_count": 13,
   "id": "a10fbb80",
   "metadata": {},
   "outputs": [],
   "source": [
    "#set medical video download folder\n",
    "medvid_folder = \"/home/hlpark/shared/MedVidQA/video\"\n",
    "if not os.path.exists(medvid_folder):\n",
    "    os.makedirs(medvid_folder)\n",
    "\n",
    "eval_folder = \"/home/hlpark/REDUCE/REDUCE_benchmarks/SeViLA/sevila_data/medvidqa_evaluation_json\"\n",
    "if not os.path.exists(eval_folder):\n",
    "    os.makedirs(eval_folder)\n",
    "\n",
    "vid_json_folder = \"/home/hlpark/REDUCE/REDUCE_benchmarks/SeViLA/sevila_data/medvidqa\"\n",
    "if not os.path.exists(vid_json_folder):\n",
    "    os.makedirs(vid_json_folder)"
   ]
  },
  {
   "cell_type": "code",
   "execution_count": 14,
   "id": "319d0fb5",
   "metadata": {},
   "outputs": [],
   "source": [
    "train_path = '/home/hlpark/shared/MedVidQA/train.json'\n",
    "val_path = '/home/hlpark/shared/MedVidQA/val.json'\n",
    "test_path = '/home/hlpark/shared/MedVidQA/test.json'"
   ]
  },
  {
   "cell_type": "code",
   "execution_count": 15,
   "id": "e0f498f5",
   "metadata": {},
   "outputs": [],
   "source": [
    "train = json.load(open(train_path))\n",
    "val = json.load(open(val_path))\n",
    "test = json.load(open(test_path))"
   ]
  },
  {
   "cell_type": "code",
   "execution_count": 16,
   "id": "7c24578a",
   "metadata": {},
   "outputs": [
    {
     "name": "stdout",
     "output_type": "stream",
     "text": [
      "[youtube] Extracting URL: https://www.youtube.com/watch?v=5gPyNNXP-wA\n",
      "[youtube] 5gPyNNXP-wA: Downloading webpage\n",
      "[youtube] 5gPyNNXP-wA: Downloading ios player API JSON\n",
      "[youtube] 5gPyNNXP-wA: Downloading android player API JSON\n"
     ]
    },
    {
     "name": "stderr",
     "output_type": "stream",
     "text": [
      "ERROR: [youtube] 5gPyNNXP-wA: Private video. Sign in if you've been granted access to this video\n"
     ]
    },
    {
     "name": "stdout",
     "output_type": "stream",
     "text": [
      "Unvailable  5gPyNNXP-wA\n",
      "[youtube] Extracting URL: https://www.youtube.com/watch?v=5gPyNNXP-wA\n",
      "[youtube] 5gPyNNXP-wA: Downloading webpage\n",
      "[youtube] 5gPyNNXP-wA: Downloading ios player API JSON\n",
      "[youtube] 5gPyNNXP-wA: Downloading android player API JSON\n"
     ]
    },
    {
     "name": "stderr",
     "output_type": "stream",
     "text": [
      "ERROR: [youtube] 5gPyNNXP-wA: Private video. Sign in if you've been granted access to this video\n"
     ]
    },
    {
     "name": "stdout",
     "output_type": "stream",
     "text": [
      "Unvailable  5gPyNNXP-wA\n",
      "[youtube] Extracting URL: https://www.youtube.com/watch?v=5gPyNNXP-wA\n",
      "[youtube] 5gPyNNXP-wA: Downloading webpage\n",
      "[youtube] 5gPyNNXP-wA: Downloading ios player API JSON\n",
      "[youtube] 5gPyNNXP-wA: Downloading android player API JSON\n"
     ]
    },
    {
     "name": "stderr",
     "output_type": "stream",
     "text": [
      "ERROR: [youtube] 5gPyNNXP-wA: Private video. Sign in if you've been granted access to this video\n"
     ]
    },
    {
     "name": "stdout",
     "output_type": "stream",
     "text": [
      "Unvailable  5gPyNNXP-wA\n",
      "[youtube] Extracting URL: https://www.youtube.com/watch?v=5gPyNNXP-wA\n",
      "[youtube] 5gPyNNXP-wA: Downloading webpage\n",
      "[youtube] 5gPyNNXP-wA: Downloading ios player API JSON\n",
      "[youtube] 5gPyNNXP-wA: Downloading android player API JSON\n"
     ]
    },
    {
     "name": "stderr",
     "output_type": "stream",
     "text": [
      "ERROR: [youtube] 5gPyNNXP-wA: Private video. Sign in if you've been granted access to this video\n"
     ]
    },
    {
     "name": "stdout",
     "output_type": "stream",
     "text": [
      "Unvailable  5gPyNNXP-wA\n",
      "[youtube] Extracting URL: https://www.youtube.com/watch?v=5gPyNNXP-wA\n",
      "[youtube] 5gPyNNXP-wA: Downloading webpage\n",
      "[youtube] 5gPyNNXP-wA: Downloading ios player API JSON\n",
      "[youtube] 5gPyNNXP-wA: Downloading android player API JSON\n"
     ]
    },
    {
     "name": "stderr",
     "output_type": "stream",
     "text": [
      "ERROR: [youtube] 5gPyNNXP-wA: Private video. Sign in if you've been granted access to this video\n"
     ]
    },
    {
     "name": "stdout",
     "output_type": "stream",
     "text": [
      "Unvailable  5gPyNNXP-wA\n",
      "[youtube] Extracting URL: https://www.youtube.com/watch?v=5gPyNNXP-wA\n",
      "[youtube] 5gPyNNXP-wA: Downloading webpage\n",
      "[youtube] 5gPyNNXP-wA: Downloading ios player API JSON\n",
      "[youtube] 5gPyNNXP-wA: Downloading android player API JSON\n"
     ]
    },
    {
     "name": "stderr",
     "output_type": "stream",
     "text": [
      "ERROR: [youtube] 5gPyNNXP-wA: Private video. Sign in if you've been granted access to this video\n"
     ]
    },
    {
     "name": "stdout",
     "output_type": "stream",
     "text": [
      "Unvailable  5gPyNNXP-wA\n",
      "[youtube] Extracting URL: https://www.youtube.com/watch?v=5gPyNNXP-wA\n",
      "[youtube] 5gPyNNXP-wA: Downloading webpage\n",
      "[youtube] 5gPyNNXP-wA: Downloading ios player API JSON\n",
      "[youtube] 5gPyNNXP-wA: Downloading android player API JSON\n"
     ]
    },
    {
     "name": "stderr",
     "output_type": "stream",
     "text": [
      "ERROR: [youtube] 5gPyNNXP-wA: Private video. Sign in if you've been granted access to this video\n"
     ]
    },
    {
     "name": "stdout",
     "output_type": "stream",
     "text": [
      "Unvailable  5gPyNNXP-wA\n",
      "[youtube] Extracting URL: https://www.youtube.com/watch?v=0YsX8qv0FaI\n",
      "[youtube] 0YsX8qv0FaI: Downloading webpage\n",
      "[youtube] 0YsX8qv0FaI: Downloading ios player API JSON\n",
      "[youtube] 0YsX8qv0FaI: Downloading android player API JSON\n"
     ]
    },
    {
     "name": "stderr",
     "output_type": "stream",
     "text": [
      "ERROR: [youtube] 0YsX8qv0FaI: Private video. Sign in if you've been granted access to this video\n"
     ]
    },
    {
     "name": "stdout",
     "output_type": "stream",
     "text": [
      "Unvailable  0YsX8qv0FaI\n",
      "[youtube] Extracting URL: https://www.youtube.com/watch?v=0YsX8qv0FaI\n",
      "[youtube] 0YsX8qv0FaI: Downloading webpage\n",
      "[youtube] 0YsX8qv0FaI: Downloading ios player API JSON\n",
      "[youtube] 0YsX8qv0FaI: Downloading android player API JSON\n"
     ]
    },
    {
     "name": "stderr",
     "output_type": "stream",
     "text": [
      "ERROR: [youtube] 0YsX8qv0FaI: Private video. Sign in if you've been granted access to this video\n"
     ]
    },
    {
     "name": "stdout",
     "output_type": "stream",
     "text": [
      "Unvailable  0YsX8qv0FaI\n",
      "[youtube] Extracting URL: https://www.youtube.com/watch?v=ZO_G0-jBVH8\n",
      "[youtube] ZO_G0-jBVH8: Downloading webpage\n",
      "[youtube] ZO_G0-jBVH8: Downloading ios player API JSON\n",
      "[youtube] ZO_G0-jBVH8: Downloading android player API JSON\n"
     ]
    },
    {
     "name": "stderr",
     "output_type": "stream",
     "text": [
      "ERROR: [youtube] ZO_G0-jBVH8: Video unavailable\n"
     ]
    },
    {
     "name": "stdout",
     "output_type": "stream",
     "text": [
      "Unvailable  ZO_G0-jBVH8\n",
      "[youtube] Extracting URL: https://www.youtube.com/watch?v=ZO_G0-jBVH8\n",
      "[youtube] ZO_G0-jBVH8: Downloading webpage\n",
      "[youtube] ZO_G0-jBVH8: Downloading ios player API JSON\n",
      "[youtube] ZO_G0-jBVH8: Downloading android player API JSON\n"
     ]
    },
    {
     "name": "stderr",
     "output_type": "stream",
     "text": [
      "ERROR: [youtube] ZO_G0-jBVH8: Video unavailable\n"
     ]
    },
    {
     "name": "stdout",
     "output_type": "stream",
     "text": [
      "Unvailable  ZO_G0-jBVH8\n",
      "0 4 7\n"
     ]
    }
   ],
   "source": [
    "new_train = []\n",
    "new_val = []\n",
    "new_test = []\n",
    "video_names = {}\n",
    "vid_dict_train, vid_dict_val, vid_dict_test = {}, {}, {}\n",
    "unav_train_query_cnt, unav_val_query_cnt, unav_test_query_cnt = 0, 0, 0\n",
    "#comment out train if training wouldn't be done\n",
    "# for i, qa in enumerate(train):\n",
    "#     qa_dict = {}\n",
    "#     qa_dict['video'] = qa['video_id']\n",
    "#     qa_dict['num_option'] = 5\n",
    "#     qa_dict['qid'] = 'MedVidQA_' + str(i)\n",
    "#     for j in range(5):\n",
    "#         qa_dict['a{}'.format(str(j))] = \"dummy \" + str(j)\n",
    "#     qa_dict['answer'] = randrange(5)\n",
    "#     qa_dict['question'] = qa['question']\n",
    "#     qa_dict['start'] = qa['answer_start_second']\n",
    "#     qa_dict['end'] = qa['answer_end_second']\n",
    "#     if os.path.exists(os.path.join(medvid_folder, qa['video_id'] + \".mp4\")):\n",
    "#         new_train.append(qa_dict)\n",
    "#         if qa['video_id'] not in vid_dict_train:\n",
    "#             vid_dict_train[qa['video_id'] ] = []\n",
    "#         if qa['video_id'] not in video_names:\n",
    "#             video_names[qa['video_id']] = []\n",
    "#         vid_dict_train[qa['video_id']].append(qa_dict)\n",
    "#         continue\n",
    "#     vid = qa['video_id']\n",
    "#     dl_ops = {\n",
    "#     'outtmpl': f'{medvid_folder}/{vid}.mp4'\n",
    "#     }\n",
    "#     try:\n",
    "#         with YoutubeDL(dl_ops) as ydl:\n",
    "#             ydl.download(qa['video_url'])\n",
    "#         new_train.append(qa_dict)\n",
    "#         if qa['video_id'] not in vid_dict_train:\n",
    "#             vid_dict_train[qa['video_id'] ] = []\n",
    "#         if qa['video_id'] not in video_names:\n",
    "#             video_names[qa['video_id']] = []\n",
    "#         vid_dict_train[qa['video_id']].append(qa_dict)\n",
    "#     except:\n",
    "#         print(\"Unvailable \", qa['video_id'])\n",
    "#         unav_train_query_cnt += 1\n",
    "\n",
    "\n",
    "for i, qa in enumerate(test):\n",
    "    qa_dict = {}\n",
    "    qa_dict['video'] = qa['video_id']\n",
    "    qa_dict['num_option'] = 5\n",
    "    qa_dict['qid'] = 'MedVidQA_' + str(i)\n",
    "    for j in range(5):\n",
    "        qa_dict['a{}'.format(str(j))] = \"dummy \" + str(j)\n",
    "    qa_dict['answer'] = randrange(5)\n",
    "    qa_dict['question'] = qa['question']\n",
    "    qa_dict['start'] = qa['answer_start_second']\n",
    "    qa_dict['end'] = qa['answer_end_second']\n",
    "    \n",
    "    if os.path.exists(os.path.join(medvid_folder, qa['video_id'] + \".mp4\")):\n",
    "        new_test.append(qa_dict)\n",
    "        #only append when video is available for downloading\n",
    "        if qa['video_id'] not in vid_dict_test:\n",
    "            vid_dict_test[qa['video_id'] ] = []\n",
    "        if qa['video_id'] not in video_names:\n",
    "            video_names[qa['video_id']] = []\n",
    "        vid_dict_test[qa['video_id']].append(qa_dict)\n",
    "        continue\n",
    "    vid = qa['video_id']\n",
    "    dl_ops = {\n",
    "    'outtmpl': f'{medvid_folder}/{vid}.mp4'\n",
    "    }\n",
    "    try:\n",
    "        with YoutubeDL(dl_ops) as ydl:\n",
    "            ydl.download(qa['video_url'])\n",
    "        new_test.append(qa_dict)\n",
    "        #only append when video is available for downloading\n",
    "        if qa['video_id'] not in vid_dict_test:\n",
    "            vid_dict_test[qa['video_id'] ] = []\n",
    "        if qa['video_id'] not in video_names:\n",
    "            video_names[qa['video_id']] = []\n",
    "        vid_dict_test[qa['video_id']].append(qa_dict)\n",
    "    except:\n",
    "        print(\"Unvailable \", qa['video_id'])\n",
    "        unav_test_query_cnt += 1\n",
    "\n",
    "for i, qa in enumerate(val):\n",
    "    qa_dict = {}\n",
    "    \n",
    "    qa_dict['video'] = qa['video_id']\n",
    "    qa_dict['num_option'] = 5\n",
    "    qa_dict['qid'] = 'MedVidQA_' + str(i)\n",
    "    for j in range(5):\n",
    "        qa_dict['a{}'.format(str(j))] = \"dummy \" + str(j)\n",
    "    qa_dict['answer'] = randrange(5)\n",
    "    qa_dict['question'] = qa['question']\n",
    "    qa_dict['start'] = qa['answer_start_second']\n",
    "    qa_dict['end'] = qa['answer_end_second']\n",
    "    if os.path.exists(os.path.join(medvid_folder, qa['video_id'] + \".mp4\")):\n",
    "        new_val.append(qa_dict)\n",
    "        if qa['video_id'] not in vid_dict_val:\n",
    "            vid_dict_val[qa['video_id'] ] = []\n",
    "        if qa['video_id'] not in video_names:\n",
    "            video_names[qa['video_id']] = []\n",
    "        vid_dict_val[qa['video_id']].append(qa_dict)\n",
    "        continue\n",
    "    vid = qa['video_id']\n",
    "    dl_ops = {\n",
    "    'outtmpl': f'{medvid_folder}/{vid}.mp4'\n",
    "    }\n",
    "    try:\n",
    "        with YoutubeDL(dl_ops) as ydl:\n",
    "            ydl.download(qa['video_url'])\n",
    "        new_val.append(qa_dict)\n",
    "        #only append when video is available for downloading\n",
    "        if qa['video_id'] not in vid_dict_val:\n",
    "            vid_dict_val[qa['video_id'] ] = []\n",
    "        if qa['video_id'] not in video_names:\n",
    "            video_names[qa['video_id']] = []\n",
    "        vid_dict_val[qa['video_id']].append(qa_dict)\n",
    "    except:\n",
    "        print(\"Unvailable \", qa['video_id'])\n",
    "        unav_val_query_cnt += 1\n",
    "print(unav_train_query_cnt, unav_val_query_cnt, unav_test_query_cnt )"
   ]
  },
  {
   "cell_type": "markdown",
   "id": "5d1fe361",
   "metadata": {},
   "source": []
  },
  {
   "cell_type": "code",
   "execution_count": 17,
   "id": "348cafde",
   "metadata": {},
   "outputs": [],
   "source": [
    "# save_json(new_train, f'{eval_folder}/train.json')\n",
    "save_json(new_val, f'{eval_folder}/val.json')\n",
    "save_json(new_test, f'{eval_folder}/test.json')"
   ]
  },
  {
   "cell_type": "code",
   "execution_count": 18,
   "id": "97739275",
   "metadata": {},
   "outputs": [],
   "source": [
    "# for name, vid_json in vid_dict_train.items():\n",
    "#     save_json(vid_json, f'{vid_json_folder}/{name}_train.json')\n",
    "for name, vid_json in vid_dict_val.items():\n",
    "    save_json(vid_json, f'{vid_json_folder}/{name}_val.json')\n",
    "for name, vid_json in vid_dict_test.items():\n",
    "    save_json(vid_json, f'{vid_json_folder}/{name}_test.json')"
   ]
  },
  {
   "cell_type": "code",
   "execution_count": 19,
   "id": "ac3ccaab",
   "metadata": {},
   "outputs": [
    {
     "name": "stdout",
     "output_type": "stream",
     "text": [
      "Read key: h5MvX50zTLM\n",
      "Read key: Se3kf5X4PCc\n",
      "Read key: UZqktEPlxTU\n",
      "Read key: _N89T_Yqu68\n",
      "Read key: g-gNQPyxU4c\n",
      "Read key: VHN5zPaw96w\n",
      "Read key: PdMJAhD7NEw\n",
      "Read key: 6kQEDRQdJZ8\n",
      "Read key: 0dr5yuoBOF4\n",
      "Read key: VykLxY9mzug\n",
      "Read key: LqMs2kA5Y88\n",
      "Read key: 9s3geiwg1AA\n",
      "Read key: M6WV95X0fRk\n",
      "Read key: _bZHLRfVYtU\n",
      "Read key: 44eYerscDWk\n",
      "Read key: lRO4l8QkAzM\n",
      "Read key: LL854--GBy4\n",
      "Read key: OwCEobuxQOY\n",
      "Read key: x3YFqBzO5Uw\n",
      "Read key: kSpggqOLgaU\n",
      "Read key: 1Nr6wPFz09A\n",
      "Read key: v0HODFTrkqs\n",
      "Read key: Zs8Fs5HaJHs\n",
      "Read key: VYXSyQmTAXQ\n",
      "Read key: kyEF16tBBxo\n",
      "Read key: CEgMHaXGhmQ\n",
      "Read key: bUgV89cdfTM\n",
      "Read key: GUg4zMpchhk\n",
      "Read key: fsdchGejKmU\n",
      "Read key: _RNMIizfDEY\n",
      "Read key: 0CD3mYjPXxk\n",
      "Read key: ZNWjfe-84Ig\n",
      "Read key: _hb7isbiW3s\n",
      "Read key: B9yiDTONlOs\n",
      "Read key: hekjiCqb9-g\n",
      "Read key: ma_cmlU9DxU\n",
      "Read key: -Zx3pWhMBjw\n",
      "Read key: 4h3V6F4Rl_k\n",
      "Read key: vgW6ZD_QwwQ\n",
      "Read key: CWRWeoaqi8k\n",
      "Read key: dqtqS_OVDGw\n",
      "Read key: R9oWYkK_l3M\n",
      "Read key: Y9-54bnvPGg\n",
      "Read key: T43753AfaKY\n",
      "Read key: xYFeFFzFftw\n",
      "Read key: 1PdyCdtkcGk\n",
      "Read key: oIuGLGlQ2gg\n",
      "Read key: M6UBlnV1Cyk\n",
      "Read key: PA9hpOnvtCk\n",
      "Read key: wkF8OwsyNNQ\n",
      "Read key: CvW-Zq3NlkU\n",
      "Read key: 7lGE4OH0uJw\n",
      "Read key: tr7JKUxwqwA\n",
      "Read key: G_AzQnDFaBU\n",
      "Read key: E92qqAftUak\n",
      "Read key: AtKU8zw2Jxg\n",
      "Read key: N59oOxyaE1A\n",
      "Read key: t8AU9mWIsqI\n",
      "Read key: gJOMV2mZ1B0\n",
      "Read key: 71LlfdW548U\n",
      "Read key: 5GO18A5-ZtQ\n",
      "Read key: O1kiguGUt3o\n",
      "Read key: Dubih8EzBJQ\n",
      "Read key: r21kAatSVqc\n",
      "Read key: ea1RJUOiNfQ\n",
      "Read key: SH-zKg26KCE\n",
      "Read key: LK3dQdj8YWQ\n",
      "Read key: 2oXoiQfija4\n",
      "Read key: hXYd0WRhzN4\n",
      "Read key: s4wUKmr2xtA\n",
      "Read key: m9ml29HVKH4\n",
      "Read key: 6rK3QDN8MF8\n",
      "Read key: NLlb2KdLbVc\n",
      "Read key: NxO5LvgqZe0\n",
      "Read key: UrC0lUVWZ00\n",
      "Read key: pYzUQb79_Rw\n",
      "Read key: RLr6uW2DdFo\n",
      "Read key: CmGVHk0Ax4M\n",
      "Read key: nopgqBoUmYg\n",
      "Read key: O02y-FXjm6M\n",
      "Read key: eOsY84oYqKg\n",
      "Read key: RRLY6anXXQo\n",
      "Read key: KMpG4A1-dZ4\n",
      "Read key: ko-uitcuY8Q\n",
      "Read key: ompjhYbkYJQ\n",
      "Read key: XQluuzqrgA8\n",
      "Read key: 0w1GlJTH2x4\n",
      "Read key: 2AN6nO_3t8s\n",
      "Read key: GZsHRoAXj3Y\n",
      "Read key: PhH9a0kIwmk\n",
      "Read key: bgY7uWPOlRA\n",
      "Read key: Aw4K5kYoCiE\n",
      "Read key: lwhYbWFtNuE\n",
      "Read key: Mtd0U13cfx0\n",
      "Read key: hJ3XICFLxvU\n",
      "Read key: lfhDPB8LaTk\n",
      "videos: 96\n"
     ]
    }
   ],
   "source": [
    "if not os.path.exists(\"medvidqa_list\"):\n",
    "    os.makedirs(\"medvidqa_list\")\n",
    "filename = \"medvidqa_list/vid_name_list.txt\"\n",
    "\n",
    "# Saving the keys to the file\n",
    "with open(filename, 'w') as file:\n",
    "    for key in video_names:\n",
    "        file.write(key + '\\n')\n",
    "\n",
    "vid_num = 0\n",
    "with open(filename, 'r') as file:\n",
    "    for line in file:\n",
    "        key = line.strip()  # Remove newline character\n",
    "        print(f\"Read key: {key}\")\n",
    "        vid_num += 1\n",
    "    print(f\"videos: {vid_num}\")"
   ]
  },
  {
   "cell_type": "code",
   "execution_count": 21,
   "id": "5bfde46d",
   "metadata": {},
   "outputs": [
    {
     "name": "stdout",
     "output_type": "stream",
     "text": [
      "max duration: 1061.78, average_duration: 340.73255319148933, max frame number (1 fps conversion): 1061.0, average frame number (1fps conversion) : 340.1914893617021\n",
      "total vidoes: 47, total_queries: 141\n",
      "number of videos longer than 340 seconds : 18\n",
      "number of queries for videos longer than 340 seconds : 87\n",
      "max duration: 823.73, average_duration: 344.31693877551027, max frame number (1 fps conversion): 823.0, average frame number (1fps conversion) : 343.85714285714283\n",
      "total vidoes: 49, total_queries: 148\n",
      "number of videos longer than 344 seconds : 21\n",
      "number of queries for videos longer than 344 seconds : 94\n"
     ]
    },
    {
     "data": {
      "text/plain": [
       "823.0"
      ]
     },
     "execution_count": 21,
     "metadata": {},
     "output_type": "execute_result"
    }
   ],
   "source": [
    "#check video length \n",
    "def check_video_statistics(vid_dict, vid_len_thresh=0):\n",
    "    max_duration, max_frame_num_1fps = 0, 0\n",
    "    sum_duration, sum_frame_num_1fps = 0, 0\n",
    "    cnt, vid_len_thresh_above_cnt, queries_cnt, queries_thresh_cnt = 0, 0, 0, 0\n",
    "    for key in video_names:\n",
    "        if key not in vid_dict:\n",
    "            continue\n",
    "        video_path = os.path.join(medvid_folder, key)\n",
    "        if video_path.endswith(\".mp4\"):\n",
    "            video = VideoFileClip(video_path)\n",
    "        else:\n",
    "            video = VideoFileClip(video_path + \".mp4\")\n",
    "\n",
    "        n_frames = video.reader.nframes\n",
    "        duration = video.duration\n",
    "        if duration > max_duration:\n",
    "            max_duration = duration\n",
    "        if n_frames // video.fps > max_frame_num_1fps:\n",
    "            max_frame_num_1fps = n_frames // video.fps\n",
    "\n",
    "        sum_duration += duration\n",
    "        sum_frame_num_1fps += n_frames // video.fps\n",
    "        # print(video.fps, n_frames, n_frames // video.fps, duration)\n",
    "        cnt += 1\n",
    "        if vid_len_thresh > 0:\n",
    "             if vid_len_thresh <= duration:\n",
    "                 vid_len_thresh_above_cnt += 1\n",
    "                 queries_thresh_cnt += len(vid_dict[key])\n",
    "        queries_cnt += len(vid_dict[key])\n",
    "        #print(n_frames, duration)\n",
    "    print(f\"max duration: {max_duration}, average_duration: {sum_duration / cnt}, max frame number (1 fps conversion): {max_frame_num_1fps}, average frame number (1fps conversion) : {sum_frame_num_1fps / cnt}\")\n",
    "    print(f\"total vidoes: {cnt}, total_queries: {queries_cnt}\")\n",
    "    if vid_len_thresh > 0:\n",
    "        print(f\"number of videos longer than {vid_len_thresh} seconds : {vid_len_thresh_above_cnt}\")\n",
    "        print(f\"number of queries for videos longer than {vid_len_thresh} seconds : {queries_thresh_cnt}\")\n",
    "    return max_frame_num_1fps\n",
    "check_video_statistics(vid_dict_val, 340)\n",
    "check_video_statistics(vid_dict_test, 344)\n"
   ]
  },
  {
   "cell_type": "code",
   "execution_count": 22,
   "id": "8d0c60fc",
   "metadata": {},
   "outputs": [],
   "source": [
    "\n",
    "video_path = os.path.join(medvid_folder, \"wkF8OwsyNNQ\")\n",
    "if video_path.endswith(\".mp4\"):\n",
    "    video = VideoFileClip(video_path)\n",
    "else:\n",
    "    video = VideoFileClip(video_path + \".mp4\")\n",
    "\n",
    "n_frames = video.reader.nframes\n",
    "duration = video.duration"
   ]
  },
  {
   "cell_type": "code",
   "execution_count": 23,
   "id": "0ecb7e0a",
   "metadata": {},
   "outputs": [
    {
     "name": "stdout",
     "output_type": "stream",
     "text": [
      "2815\n",
      "117.25999999999999\n"
     ]
    }
   ],
   "source": [
    "print(n_frames)\n",
    "print(video.duration)"
   ]
  },
  {
   "cell_type": "code",
   "execution_count": null,
   "id": "11781725",
   "metadata": {},
   "outputs": [],
   "source": []
  }
 ],
 "metadata": {
  "kernelspec": {
   "display_name": "Python 3 (ipykernel)",
   "language": "python",
   "name": "python3"
  },
  "language_info": {
   "codemirror_mode": {
    "name": "ipython",
    "version": 3
   },
   "file_extension": ".py",
   "mimetype": "text/x-python",
   "name": "python",
   "nbconvert_exporter": "python",
   "pygments_lexer": "ipython3",
   "version": "3.8.18"
  }
 },
 "nbformat": 4,
 "nbformat_minor": 5
}
