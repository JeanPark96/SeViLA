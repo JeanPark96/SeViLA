{
 "cells": [
  {
   "cell_type": "code",
   "execution_count": 1,
   "id": "4204c7e1",
   "metadata": {},
   "outputs": [
    {
     "name": "stdout",
     "output_type": "stream",
     "text": [
      "The history saving thread hit an unexpected error (OperationalError('no such table: history')).History will not be written to the database.\n"
     ]
    }
   ],
   "source": [
    "import os\n",
    "import json\n",
    "import pandas as pd\n",
    "from random import randrange\n",
    "import random"
   ]
  },
  {
   "cell_type": "code",
   "execution_count": 2,
   "id": "5e807f09",
   "metadata": {},
   "outputs": [],
   "source": [
    "# create folder for each dataset first    "
   ]
  },
  {
   "cell_type": "code",
   "execution_count": 3,
   "id": "09845339",
   "metadata": {},
   "outputs": [],
   "source": [
    "def save_json(content, save_path):\n",
    "    with open(save_path, 'w') as f:\n",
    "        f.write(json.dumps(content))\n",
    "def load_jsonl(filename):\n",
    "    with open(filename, \"r\") as f:\n",
    "        return [json.loads(l.strip(\"\\n\")) for l in f.readlines()]"
   ]
  },
  {
   "cell_type": "code",
   "execution_count": 4,
   "id": "4e569c5b",
   "metadata": {},
   "outputs": [],
   "source": [
    "# TVQA"
   ]
  },
  {
   "cell_type": "code",
   "execution_count": 5,
   "id": "4e3bbe26",
   "metadata": {},
   "outputs": [],
   "source": [
    "#set tvqa video, input json, eval json folder\n",
    "tvqa_folder = \"/home/hlpark/TVQA/video/video_files/\"\n",
    "if not os.path.exists(tvqa_folder):\n",
    "    os.makedirs(tvqa_folder)\n",
    "\n",
    "eval_folder = \"/home/hlpark/REDUCE/REDUCE_benchmarks/SeViLA/sevila_data/tvqa_evaluation_json\"\n",
    "if not os.path.exists(eval_folder):\n",
    "    os.makedirs(eval_folder)\n",
    "\n",
    "vid_json_folder = \"/home/hlpark/REDUCE/REDUCE_benchmarks/SeViLA/sevila_data/tvqa\"\n",
    "if not os.path.exists(vid_json_folder):\n",
    "    os.makedirs(vid_json_folder)"
   ]
  },
  {
   "cell_type": "code",
   "execution_count": 6,
   "id": "51780fb5",
   "metadata": {},
   "outputs": [],
   "source": [
    "vid_json_folder = \"/home/hlpark/REDUCE/REDUCE_benchmarks/HiREST/data/splits/tvqa\"\n",
    "clip_pred_med = load_jsonl(f'{vid_json_folder}/five_labeled_pred_med_from_gt_vid_dict.json')"
   ]
  },
  {
   "cell_type": "code",
   "execution_count": 7,
   "id": "319d0fb5",
   "metadata": {},
   "outputs": [],
   "source": [
    "train_path = '/home/hlpark/shared/TVQA/tvqa_qa_release/tvqa_train.jsonl'\n",
    "val_path = '/home/hlpark/shared/TVQA/tvqa_qa_release/tvqa_val.jsonl'\n",
    "test_path = '/home/hlpark/shared/TVQA/tvqa_qa_release/tvqa_test_public.jsonl'\n",
    "\n",
    "#below predicions were on TVQA dataset with audio\n",
    "#original before finetuning\n",
    "hirest_prediction_test_path_original_path = '/home/hlpark/REDUCE/REDUCE_benchmarks/HiREST/data/splits/tvqa/all_data_test_moment_retrieval_BEST_with_audio.json'\n",
    "hirest_prediction_val_path_original_path = '/home/hlpark/REDUCE/REDUCE_benchmarks/HiREST/data/splits/tvqa/all_data_val_moment_retrieval_BEST_with_audio.json'\n",
    "#C : TVQA with audio\n",
    "hirest_prediction_test_path_finetuned_on_visual_from_med_path = '/home/hlpark/REDUCE/REDUCE_benchmarks/HiREST/data/splits/tvqa_finetuned_on_visual_med/all_data_test_moment_retrieval_BEST_with_audio.json'\n",
    "hirest_prediction_val_path_finetuned_on_visual_from_med_path = '/home/hlpark/REDUCE/REDUCE_benchmarks/HiREST/data/splits/tvqa_finetuned_on_visual_med/all_data_val_moment_retrieval_BEST_with_audio.json'\n",
    "#D : TVQA with audio\n",
    "hirest_prediction_test_path_finetuned_on_visual_from_nonmed_path = '/home/hlpark/REDUCE/REDUCE_benchmarks/HiREST/data/splits/tvqa_finetuned_on_visual_nonmed/all_data_test_moment_retrieval_BEST_with_audio.json'\n",
    "hirest_prediction_val_path_finetuned_on_visual_from_nonmed_path = '/home/hlpark/REDUCE/REDUCE_benchmarks/HiREST/data/splits/tvqa_finetuned_on_visual_nonmed/all_data_val_moment_retrieval_BEST_with_audio.json'\n",
    "#F : TVQA with audio\n",
    "hirest_prediction_test_path_finetuned_on_full_without_audio_path = '/home/hlpark/REDUCE/REDUCE_benchmarks/HiREST/data/splits/tvqa_finetuned_on_full_without_audio/all_data_test_moment_retrieval_BEST_with_audio.json'\n",
    "hirest_prediction_val_path_finetuned_on_full_without_audio_path  = '/home/hlpark/REDUCE/REDUCE_benchmarks/HiREST/data/splits/tvqa_finetuned_on_full_without_audio/all_data_val_moment_retrieval_BEST_with_audio.json'"
   ]
  },
  {
   "cell_type": "code",
   "execution_count": 8,
   "id": "e0f498f5",
   "metadata": {},
   "outputs": [],
   "source": [
    "train = load_jsonl(train_path)\n",
    "val = load_jsonl(val_path)\n",
    "test = load_jsonl(test_path)"
   ]
  },
  {
   "cell_type": "code",
   "execution_count": 9,
   "id": "b90ab750",
   "metadata": {},
   "outputs": [],
   "source": [
    "prediction_set = [[json.load(open(hirest_prediction_test_path_original_path)), json.load(open(hirest_prediction_val_path_original_path))],\n",
    "                  [json.load(open(hirest_prediction_test_path_finetuned_on_visual_from_med_path)), json.load(open(hirest_prediction_val_path_finetuned_on_visual_from_med_path))],\n",
    "                  [json.load(open(hirest_prediction_test_path_finetuned_on_visual_from_nonmed_path)), json.load(open(hirest_prediction_val_path_finetuned_on_visual_from_nonmed_path))],\n",
    "                  [json.load(open(hirest_prediction_test_path_finetuned_on_full_without_audio_path)), json.load(open(hirest_prediction_val_path_finetuned_on_full_without_audio_path))]]"
   ]
  },
  {
   "cell_type": "code",
   "execution_count": 10,
   "id": "00c3645c",
   "metadata": {},
   "outputs": [],
   "source": [
    "tvqa_hirest_folder_list = ['/home/hlpark/REDUCE/REDUCE_benchmarks/SeViLA/sevila_data/hirest_tvqa_original_pred',\n",
    "                           '/home/hlpark/REDUCE/REDUCE_benchmarks/SeViLA/sevila_data/hirest_tvqa_finetuned_on_visual_med',\n",
    "                           '/home/hlpark/REDUCE/REDUCE_benchmarks/SeViLA/sevila_data/hirest_tvqa_finetuned_on_visual_nonmed',\n",
    "                           '/home/hlpark/REDUCE/REDUCE_benchmarks/SeViLA/sevila_data/hirest_tvqa_finetuned_on_full_without_audio']"
   ]
  },
  {
   "cell_type": "code",
   "execution_count": 12,
   "id": "efdc66a9",
   "metadata": {},
   "outputs": [
    {
     "name": "stdout",
     "output_type": "stream",
     "text": [
      "2704 12548\n",
      "2704\n",
      "704\n",
      "704\n"
     ]
    }
   ],
   "source": [
    "medical_val_set = {}\n",
    "nonmedical_val_set = {}\n",
    "c, d = 0, 0\n",
    "for i, qa in enumerate(val):\n",
    "    for qc in clip_pred_med[0][qa['vid_name']]:\n",
    "        if len(qc) != len(set(qc)):\n",
    "            print(qc)\n",
    "        if qa['q'] not in qc:\n",
    "            continue\n",
    "        if qc[qa['q']] == \"med\":\n",
    "            medical_val_set[qa['q'] + qa['vid_name']] = 1\n",
    "            c += 1\n",
    "        elif qc[qa['q']] == \"nonmed\":\n",
    "            nonmedical_val_set[qa['q'] + qa['vid_name']] = 1\n",
    "            d+=1\n",
    "\n",
    "\n",
    "random.seed(91)\n",
    "med_keys = list(medical_val_set)\n",
    "nonmed_keys = list(nonmedical_val_set)\n",
    "print(len(medical_val_set), len(nonmedical_val_set))\n",
    "print(len(list(range(0, len(medical_val_set)))))\n",
    "is_1000_orig = False\n",
    "is_700 = True\n",
    "if is_1000_orig:\n",
    "    med_idx = random.sample(list(range(0, len(medical_val_set))), k = 1000)\n",
    "    if len(med_idx) != len(set(med_idx)):\n",
    "        print(\"duplicate\")\n",
    "    non_med_idx = random.sample(list(range(0, len(nonmedical_val_set))), k = 1000)\n",
    "    if len(non_med_idx) != len(set(non_med_idx)):\n",
    "        print(\"duplicate\")\n",
    "elif is_700 == False:\n",
    "    med_idx = random.sample(list(range(0, len(medical_val_set))), k = 1000)\n",
    "\n",
    "    med_new_idx = [x for x in list(range(0, len(medical_val_set))) if x not in med_idx]\n",
    "    med_idx = med_new_idx[:1000]\n",
    "    if len(med_idx) != len(set(med_idx)):\n",
    "        print(\"duplicate\")\n",
    "    non_med_idx = random.sample(list(range(0, len(nonmedical_val_set))), k = 1000)\n",
    "    non_med_new_idx = [x for x in list(range(0, len(nonmedical_val_set))) if x not in non_med_idx]\n",
    "    non_med_idx = non_med_new_idx[:1000]\n",
    "    if len(non_med_idx) != len(set(non_med_idx)):\n",
    "        print(\"duplicate\")\n",
    "else:\n",
    "    med_idx = random.sample(list(range(0, len(medical_val_set))), k = 1000)\n",
    "\n",
    "    med_new_idx = [x for x in list(range(0, len(medical_val_set))) if x not in med_idx]\n",
    "    med_idx = med_new_idx[1000:]\n",
    "    if len(med_idx) != len(set(med_idx)):\n",
    "        print(\"duplicate\")\n",
    "    non_med_idx = random.sample(list(range(0, len(nonmedical_val_set))), k = 1000)\n",
    "    non_med_new_idx = [x for x in list(range(0, len(nonmedical_val_set))) if x not in non_med_idx]\n",
    "    non_med_idx = non_med_new_idx[1000:1000+len(med_idx)]\n",
    "    if len(non_med_idx) != len(set(non_med_idx)):\n",
    "        print(\"duplicate\")\n",
    "medical_val_1000_sample = {}\n",
    "nonmedical_val_1000_sample = {}\n",
    "\n",
    "for idx in med_idx:\n",
    "    medical_val_1000_sample[med_keys[idx]] = medical_val_set[med_keys[idx]]\n",
    "\n",
    "for idx in non_med_idx:\n",
    "    nonmedical_val_1000_sample[nonmed_keys[idx]] = nonmedical_val_set[nonmed_keys[idx]]\n",
    "\n",
    "assert len(medical_val_1000_sample) == len(medical_val_1000_sample)\n",
    "assert len(nonmedical_val_1000_sample) == len(nonmedical_val_1000_sample)\n",
    "print(len(medical_val_1000_sample))\n",
    "print(len(nonmedical_val_1000_sample))\n",
    "# for i, x in enumerate(medical_val_1000_sample['query']):\n",
    "#     if x in nonmedical_val_1000_sample['query']:\n",
    "#         print(medical_val_1000_sample['video'][i])\n",
    "#         for j, y in enumerate(nonmedical_val_1000_sample['query']):\n",
    "#             if y == x:\n",
    "#                 print(nonmedical_val_1000_sample['video'][j])"
   ]
  },
  {
   "cell_type": "code",
   "execution_count": 13,
   "id": "df6a16ad",
   "metadata": {},
   "outputs": [
    {
     "name": "stdout",
     "output_type": "stream",
     "text": [
      "1406\n",
      "8 5\n",
      "1406\n",
      "8 5\n",
      "1406\n",
      "8 5\n",
      "1406\n",
      "8 5\n"
     ]
    }
   ],
   "source": [
    "video_names = {}\n",
    "\n",
    "for idx, pred in enumerate(prediction_set):\n",
    "    pred_test, pred_val = pred[0], pred[1]\n",
    "    val_dict, partial_val_dict = [], []\n",
    "    dupq_cnt_test, dupq_cnt_val = 0, 0\n",
    "    for i, qa in enumerate(val):\n",
    "        qa_dict = {}\n",
    "        \n",
    "        if qa['vid_name'] not in video_names:\n",
    "            video_names[qa['vid_name']] = []\n",
    "        qa_dict['video'] = qa['vid_name']\n",
    "        qa_dict['num_option'] = 5\n",
    "        qa_dict['qid'] = 'TVQA_' + str(i)\n",
    "        for j in range(5):\n",
    "            qa_dict['a{}'.format(str(j))] = qa['a{}'.format(str(j))]\n",
    "        qa_dict['answer'] = qa['answer_idx']\n",
    "        qa_dict['question'] = qa['q']\n",
    "        \n",
    "        \n",
    "        if qa['q'] in pred_val:\n",
    "            # print(pred_val[qa['q']], qa['q'], qa['vid_name'])\n",
    "            if qa['vid_name'] + \".mp4\" not in pred_val[qa['q']]:\n",
    "                dupq_cnt_val += 1\n",
    "                continue\n",
    "            qa_dict['start'] = pred_val[qa['q']][qa['vid_name'] + \".mp4\"]['bounds'][0]\n",
    "            qa_dict['end'] = pred_val[qa['q']][qa['vid_name'] + \".mp4\"]['bounds'][1]\n",
    "        else:\n",
    "            print(\"ERROR \", qa['q'])\n",
    "            continue\n",
    "        if qa['q'] + qa['vid_name']  in medical_val_1000_sample:\n",
    "            partial_val_dict.append(qa_dict)\n",
    "        elif qa['q'] + qa['vid_name'] in nonmedical_val_1000_sample:\n",
    "            partial_val_dict.append(qa_dict)\n",
    "        val_dict.append(qa_dict)\n",
    "\n",
    "    test_dict, partial_test_dict = [], []\n",
    "    for i, qa in enumerate(test):\n",
    "        qa_dict = {}\n",
    "        if qa['vid_name'] not in video_names:\n",
    "            video_names[qa['vid_name']] = []\n",
    "        qa_dict['video'] = qa['vid_name']\n",
    "        qa_dict['num_option'] = 5\n",
    "        qa_dict['qid'] = 'TVQA_' + str(i)\n",
    "        for j in range(5):\n",
    "            qa_dict['a{}'.format(str(j))] = qa['a{}'.format(str(j))]\n",
    "        qa_dict['answer'] = randrange(5)\n",
    "        qa_dict['question'] = qa['q']\n",
    "        qa_dict['start'] = qa['ts'].split('-')[0]\n",
    "        qa_dict['end'] = qa['ts'].split('-')[1]\n",
    "        if qa['q'] in pred_test:\n",
    "            if qa['vid_name'] + \".mp4\" not in pred_test[qa['q']]:\n",
    "                dupq_cnt_test += 1\n",
    "                continue\n",
    "            qa_dict['start'] = pred_test[qa['q']][qa['vid_name'] + \".mp4\"]['bounds'][0]\n",
    "            qa_dict['end'] = pred_test[qa['q']][qa['vid_name'] + \".mp4\"]['bounds'][1]\n",
    "        else:\n",
    "            print(\"ERROR \", qa['q'])\n",
    "            continue\n",
    "        test_dict.append(qa_dict)\n",
    "    print(len(partial_val_dict))\n",
    "    print(dupq_cnt_val, dupq_cnt_test)\n",
    "    if not os.path.exists(tvqa_hirest_folder_list[idx]):\n",
    "        os.makedirs(tvqa_hirest_folder_list[idx])\n",
    "    save_json(val_dict, f'{tvqa_hirest_folder_list[idx]}/val_hirest_gt.json')\n",
    "    if is_1000_orig:\n",
    "        save_json(partial_val_dict, f'{tvqa_hirest_folder_list[idx]}/partial_val_hirest_gt.json')\n",
    "    else:\n",
    "        if is_700 == False:\n",
    "            print(\"pt2\")\n",
    "            #save_json(partial_val_dict, f'{tvqa_hirest_folder_list[idx]}/partial_val_hirest_gt_pt2.json')\n",
    "        else:\n",
    "            save_json(partial_val_dict, f'{tvqa_hirest_folder_list[idx]}/partial_val_hirest_gt_pt3.json')\n",
    "    save_json(test_dict, f'{tvqa_hirest_folder_list[idx]}/test_hirest_gt.json')"
   ]
  },
  {
   "cell_type": "code",
   "execution_count": null,
   "id": "3dfdd2a5",
   "metadata": {},
   "outputs": [],
   "source": []
  }
 ],
 "metadata": {
  "kernelspec": {
   "display_name": "Python 3 (ipykernel)",
   "language": "python",
   "name": "python3"
  },
  "language_info": {
   "codemirror_mode": {
    "name": "ipython",
    "version": 3
   },
   "file_extension": ".py",
   "mimetype": "text/x-python",
   "name": "python",
   "nbconvert_exporter": "python",
   "pygments_lexer": "ipython3",
   "version": "3.8.18"
  }
 },
 "nbformat": 4,
 "nbformat_minor": 5
}
