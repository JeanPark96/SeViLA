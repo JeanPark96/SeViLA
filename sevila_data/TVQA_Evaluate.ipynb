{
 "cells": [
  {
   "cell_type": "code",
   "execution_count": 1,
   "id": "4204c7e1",
   "metadata": {},
   "outputs": [],
   "source": [
    "import os\n",
    "import json\n",
    "import pandas as pd\n",
    "from moviepy.editor import *\n",
    "from decord import VideoReader\n",
    "import numpy as np\n",
    "import math"
   ]
  },
  {
   "cell_type": "code",
   "execution_count": 20,
   "id": "bb4ec4c4",
   "metadata": {},
   "outputs": [],
   "source": [
    "downsampling_rate= 1\n",
    "def verify_frame_len(video_path, frame_idx):\n",
    "    if video_path.endswith(\".mp4\"):\n",
    "        video = VideoFileClip(video_path)\n",
    "    else:\n",
    "        video = VideoFileClip(video_path + \".mp4\")\n",
    "    n_frames = video.reader.nframes\n",
    "    if n_frames // (downsampling_rate * video.fps) != max(frame_idx) + 1:\n",
    "        print(\"ERROR\", video.fps, n_frames, max(frame_idx))"
   ]
  },
  {
   "cell_type": "code",
   "execution_count": 21,
   "id": "5e807f09",
   "metadata": {},
   "outputs": [],
   "source": [
    "def find_consecutive_timestamps(timestamps):\n",
    "    \"\"\"\n",
    "    Function to find consecutive timestamps in a list and record the start and end time.\n",
    "    \"\"\"\n",
    "    if not timestamps:\n",
    "        return []\n",
    "\n",
    "    # Initialize the first start time and the result list\n",
    "    start = timestamps[0]\n",
    "    result = []\n",
    "    \n",
    "    for i in range(1, len(timestamps)):\n",
    "        # Check if the current timestamp is not consecutive\n",
    "        if timestamps[i] != timestamps[i-1] + 1:\n",
    "            # Record the previous consecutive sequence\n",
    "            result.append([start, timestamps[i-1]])\n",
    "            # Update the start for the new sequence\n",
    "            start = timestamps[i]\n",
    "\n",
    "    # Add the last sequence\n",
    "    result.append([start, timestamps[-1]])\n",
    "\n",
    "    return result\n",
    "\n",
    "# Example usage\n",
    "# timestamps = [0, 1, 2, 3, 4, 8, 10, 11, 12]\n",
    "# find_consecutive_timestamps(timestamps)"
   ]
  },
  {
   "cell_type": "code",
   "execution_count": 22,
   "id": "a4c5c115",
   "metadata": {},
   "outputs": [],
   "source": [
    "def calculate_iou(ground_truth, predictions):\n",
    "    \"\"\"\n",
    "    Calculate the Intersection over Union (IoU) for video moment retrieval.\n",
    "    \n",
    "    :param ground_truth: A tuple representing the ground truth interval (start, end).\n",
    "    :param predictions: A list of tuples representing predicted intervals [(start1, end1), (start2, end2), ...].\n",
    "    :return: IoU score.\n",
    "    \"\"\"\n",
    "    GT_start, GT_end = ground_truth\n",
    "    total_intersection = 0\n",
    "    total_union = 0\n",
    "\n",
    "    for (P_start, P_end) in predictions:\n",
    "        # Calculate intersection\n",
    "        intersection = max(0, min(GT_end, P_end) - max(GT_start, P_start))\n",
    "        total_intersection += intersection\n",
    "\n",
    "        # Calculate union for this predicted interval\n",
    "        union = (P_end - P_start)  - intersection\n",
    "        total_union += union\n",
    "    total_union += (GT_end - GT_start)\n",
    "    # Avoid division by zero\n",
    "    if total_union == 0:\n",
    "        return 0\n",
    "\n",
    "    # Calculate IoU\n",
    "    iou = total_intersection / total_union\n",
    "    return iou"
   ]
  },
  {
   "cell_type": "code",
   "execution_count": 23,
   "id": "09845339",
   "metadata": {},
   "outputs": [],
   "source": [
    "def save_json(content, save_path):\n",
    "    with open(save_path, 'w') as f:\n",
    "        f.write(json.dumps(content))\n",
    "def load_jsonl(filename):\n",
    "    with open(filename, \"r\") as f:\n",
    "        return [json.loads(l.strip(\"\\n\")) for l in f.readlines()]\n",
    "        # return json.loads(f)"
   ]
  },
  {
   "cell_type": "code",
   "execution_count": 24,
   "id": "3b083a61",
   "metadata": {},
   "outputs": [],
   "source": [
    "#set folder path\n",
    "root_path = \"/home/hlpark/shared/REDUCE_benchmarks/SeViLA/sevila_data/tvqa\"\n",
    "video_root = \"/home/hlpark/shared/TVQA/video/video_files\"\n",
    "tvqa_result_root = \"/home/hlpark/shared/REDUCE_benchmarks/SeViLA/sevila_result\"\n",
    "eval_path = \"/home/hlpark/shared/REDUCE_benchmarks/SeViLA/sevila_data/tvqa_evaluation_json\""
   ]
  },
  {
   "cell_type": "code",
   "execution_count": 25,
   "id": "4e569c5b",
   "metadata": {},
   "outputs": [],
   "source": [
    "# TVQA\n",
    "tvqa_val_json = []\n",
    "tvqa_list = []\n",
    "video_list = []\n",
    "\n",
    "for _, dir, _ in os.walk(tvqa_result_root):\n",
    "    for f in dir:\n",
    "        tvqa_val_json.append(os.path.join(root_path, f + \"_val.json\"))\n",
    "        video_name = f\n",
    "        video_list.append(os.path.join(video_root, video_name))\n",
    "        if os.path.exists(os.path.join(tvqa_result_root, video_name, \"result\", \"test_epochbest.json\")):\n",
    "            tvqa_list.append(os.path.join(tvqa_result_root, video_name, \"result\", \"test_epochbest.json\"))\n",
    "        elif os.path.exists(os.path.join(tvqa_result_root, video_name, \"result\", \"val_epochbest.json\")):\n",
    "            tvqa_list.append(os.path.join(tvqa_result_root, video_name, \"result\", \"val_epochbest.json\"))\n",
    "        elif os.path.exists(os.path.join(tvqa_result_root, video_name, \"result\", \"train_epochbest.json\")):\n",
    "            tvqa_list.append(os.path.join(tvqa_result_root, video_name, \"result\", \"train_epochbest.json\"))\n",
    "            print(\"train file\")\n",
    "        else: \n",
    "            tvqa_list.append(\"\")\n",
    "assert len(tvqa_list) == len(tvqa_val_json)\n",
    "al_json = {}\n",
    "fileerr = 0\n",
    "for idx, val_json in enumerate(tvqa_val_json):\n",
    "    if tvqa_list[idx] == '':\n",
    "        continue\n",
    "    try:\n",
    "        tvqa = load_jsonl(tvqa_list[idx])\n",
    "        val = load_jsonl(val_json)\n",
    "        tvqa_video = video_list[idx]\n",
    "        \n",
    "        \n",
    "        for i, qa in enumerate(val[0]):\n",
    "            dic = {}\n",
    "            dic['ground_truth'] = [float(qa['start']), float(qa['end'])]\n",
    "            dic['time_span_len'] = float(qa['end']) - float(qa['start'])\n",
    "            al_json[qa['qid']] = dic\n",
    "\n",
    "        max_frame_num = 0\n",
    "\n",
    "        for i, qa in enumerate(tvqa[0]):\n",
    "            max_frame_num = max(qa['frame_idx'])\n",
    "            if qa['qid'] not in al_json:\n",
    "                print(\"QID doesnt exist\", qa['qid'])\n",
    "            else:\n",
    "                dic = al_json[qa['qid']] \n",
    "                pred = qa['frame_idx'][:int(np.ceil(dic['time_span_len']))]\n",
    "                pred = sorted(pred)\n",
    "                # print(pred)\n",
    "                pred_time_span = find_consecutive_timestamps(pred)\n",
    "                #print(dic['ground_truth'],pred_time_span)\n",
    "                dic['pred'] = pred_time_span\n",
    "                iou = calculate_iou(dic['ground_truth'], pred_time_span)\n",
    "                dic['iou'] = iou\n",
    "                verify_frame_len(tvqa_video,  qa['frame_idx'])\n",
    "                #print(iou)\n",
    "                \n",
    "                \n",
    "    except FileNotFoundError as e: \n",
    "        print(\"file not found \", e)\n",
    "        fileerr +=1\n"
   ]
  },
  {
   "cell_type": "code",
   "execution_count": 26,
   "id": "319d0fb5",
   "metadata": {},
   "outputs": [],
   "source": [
    "train_path = f'{eval_path}/train.json'\n",
    "val_path = f'{eval_path}/val.json'\n",
    "test_path = f'{eval_path}/test.json'"
   ]
  },
  {
   "cell_type": "code",
   "execution_count": 27,
   "id": "e0f498f5",
   "metadata": {},
   "outputs": [],
   "source": [
    "train = load_jsonl(train_path)\n",
    "val = load_jsonl(val_path)\n",
    "test = load_jsonl(test_path)"
   ]
  },
  {
   "cell_type": "code",
   "execution_count": 28,
   "id": "df6a16ad",
   "metadata": {},
   "outputs": [
    {
     "name": "stdout",
     "output_type": "stream",
     "text": [
      "4357\n"
     ]
    }
   ],
   "source": [
    "val_total_cnt = 0\n",
    "val_dict = {}\n",
    "for i, qa in enumerate(val[0]):\n",
    "    val_total_cnt +=1\n",
    "    val_dict[str(qa['qid'])] = 1\n",
    "print(idx)\n",
    "train_dict = {}\n",
    "for i, qa in enumerate(train[0]):\n",
    "    train_dict[str(qa['qid'])] = 1\n",
    "test_dict = {}\n",
    "for i, qa in enumerate(test[0]):\n",
    "    test_dict[str(qa['qid'])] = 1"
   ]
  },
  {
   "cell_type": "code",
   "execution_count": 29,
   "id": "4a5952b3",
   "metadata": {},
   "outputs": [
    {
     "name": "stdout",
     "output_type": "stream",
     "text": [
      "IoU=0.3: 12.613156306578151\n",
      "IoU=0.5: 6.430630993093274\n",
      "IoU=0.7: 3.051029303292429\n",
      "total queries:14913/15253\n"
     ]
    }
   ],
   "source": [
    "val_cnt, train_cnt, test_cnt = 0, 0, 0\n",
    "cnt_3_thresh, cnt_5_thresh, cnt_7_thresh = 0, 0, 0\n",
    "for key, val in al_json.items():\n",
    "    if 'iou' not in val:\n",
    "        continue\n",
    "    #print(key)\n",
    "    if key in val_dict:\n",
    "        val_cnt += 1\n",
    "        if val['iou'] > 0.3:\n",
    "            cnt_3_thresh += 1\n",
    "        if val['iou'] > 0.5:\n",
    "            cnt_5_thresh += 1\n",
    "        if val['iou'] > 0.7:\n",
    "            cnt_7_thresh += 1\n",
    "        \n",
    "if val_cnt > 0:\n",
    "    # assert len(val_dict) == val_cnt\n",
    "    print(f\"IoU=0.3: {cnt_3_thresh/(val_cnt) * 100}\\nIoU=0.5: {cnt_5_thresh/(val_cnt) * 100}\\nIoU=0.7: {cnt_7_thresh/(val_cnt) * 100}\\ntotal queries:{(val_cnt)}/{val_total_cnt}\")\n"
   ]
  },
  {
   "cell_type": "code",
   "execution_count": null,
   "id": "c11858cd",
   "metadata": {},
   "outputs": [],
   "source": []
  }
 ],
 "metadata": {
  "kernelspec": {
   "display_name": "Python 3 (ipykernel)",
   "language": "python",
   "name": "python3"
  },
  "language_info": {
   "codemirror_mode": {
    "name": "ipython",
    "version": 3
   },
   "file_extension": ".py",
   "mimetype": "text/x-python",
   "name": "python",
   "nbconvert_exporter": "python",
   "pygments_lexer": "ipython3",
   "version": "3.8.18"
  }
 },
 "nbformat": 4,
 "nbformat_minor": 5
}
